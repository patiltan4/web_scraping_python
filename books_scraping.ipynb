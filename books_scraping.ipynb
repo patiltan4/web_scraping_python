{
 "cells": [
  {
   "cell_type": "code",
   "execution_count": 46,
   "id": "91c11a61-dd96-40ba-a548-1101310a7fb8",
   "metadata": {},
   "outputs": [],
   "source": [
    "# import web grabbing client and\n",
    "# HTML parser\n",
    "from urllib.request import urlopen as uReq\n",
    "from bs4 import BeautifulSoup as soup\n",
    "import pandas as pd"
   ]
  },
  {
   "cell_type": "code",
   "execution_count": 47,
   "id": "6bf9891c-d5ad-466d-bb47-6b6b7dde563f",
   "metadata": {},
   "outputs": [],
   "source": [
    "# variable to store website link as string\n",
    "myurl = 'http://books.toscrape.com/index.html'\n",
    "fixed_url = \"http://books.toscrape.com/\"\n",
    "dict_of_category_and_urls ={}"
   ]
  },
  {
   "cell_type": "code",
   "execution_count": 48,
   "id": "a43488a1-3535-471d-b193-16ceb1d74b9e",
   "metadata": {},
   "outputs": [],
   "source": [
    "def func_get_scrape(category):\n",
    "    # grab website and store in variable uclient\n",
    "    suffix = \"catalogue/category/books/\" + category + \"/index.html\"\n",
    "    curr_url = fixed_url + suffix\n",
    "    print(curr_url)\n",
    "    curr_uClient = uReq(curr_url)\n",
    " \n",
    "    # read and close HTML\n",
    "    curr_page_html = curr_uClient.read()\n",
    "    curr_uClient.close()\n",
    " \n",
    "    # call BeautifulSoup for parsing\n",
    "    currpage_soup = soup(curr_page_html, \"html.parser\")\n",
    "    dict_of_category_and_urls[category] = currpage_soup\n",
    "    #dict_of_category_and_urls[category] = curr_url\n",
    "    "
   ]
  },
  {
   "cell_type": "code",
   "execution_count": 4,
   "id": "22c9215f-2113-462e-b46d-c608dff04f82",
   "metadata": {},
   "outputs": [],
   "source": [
    "# grab website and store in variable uclient\n",
    "uClient = uReq(myurl)\n",
    " \n",
    "# read and close HTML\n",
    "page_html = uClient.read()\n",
    "uClient.close()\n",
    " \n",
    "# call BeautifulSoup for parsing\n",
    "page_soup = soup(page_html, \"html.parser\")"
   ]
  },
  {
   "cell_type": "code",
   "execution_count": 49,
   "id": "940a6f45-895f-48cd-9e47-e16187f56c5b",
   "metadata": {},
   "outputs": [],
   "source": [
    "#get all categories\n",
    "categories_div = page_soup.find(\"div\" , {\"class\" :\"side_categories\"})"
   ]
  },
  {
   "cell_type": "code",
   "execution_count": 6,
   "id": "d91191d8-b277-472b-acf1-29251537287f",
   "metadata": {},
   "outputs": [],
   "source": [
    "#categories"
   ]
  },
  {
   "cell_type": "code",
   "execution_count": 50,
   "id": "28c27b48-9ad5-4e51-b857-75bded7c54e2",
   "metadata": {},
   "outputs": [],
   "source": [
    "a_tags = categories_div.findAll('a')"
   ]
  },
  {
   "cell_type": "code",
   "execution_count": 51,
   "id": "748ba246-2c63-4e53-b06f-7ed0da96e27e",
   "metadata": {},
   "outputs": [],
   "source": [
    "book_categories = []\n",
    "for category in a_tags:\n",
    "    #print(category.get_text(strip=True))\n",
    "    book_categories.append(category.get_text(strip=True))\n",
    "    #print(category.ul.li.a)"
   ]
  },
  {
   "cell_type": "code",
   "execution_count": 52,
   "id": "1170bfab-848c-4c03-8df6-c57ba06a97db",
   "metadata": {},
   "outputs": [
    {
     "name": "stdout",
     "output_type": "stream",
     "text": [
      "['Books', 'Travel', 'Mystery', 'Historical Fiction', 'Sequential Art', 'Classics', 'Philosophy', 'Romance', 'Womens Fiction', 'Fiction', 'Childrens', 'Religion', 'Nonfiction', 'Music', 'Default', 'Science Fiction', 'Sports and Games', 'Add a comment', 'Fantasy', 'New Adult', 'Young Adult', 'Science', 'Poetry', 'Paranormal', 'Art', 'Psychology', 'Autobiography', 'Parenting', 'Adult Fiction', 'Humor', 'Horror', 'History', 'Food and Drink', 'Christian Fiction', 'Business', 'Biography', 'Thriller', 'Contemporary', 'Spirituality', 'Academic', 'Self Help', 'Historical', 'Christian', 'Suspense', 'Short Stories', 'Novels', 'Health', 'Politics', 'Cultural', 'Erotica', 'Crime']\n"
     ]
    }
   ],
   "source": [
    "print(book_categories)"
   ]
  },
  {
   "cell_type": "code",
   "execution_count": 53,
   "id": "0576ef54-81dc-4899-a69f-fd92f6f90cc9",
   "metadata": {},
   "outputs": [],
   "source": [
    "category_df = pd.DataFrame(book_categories, columns=['category'])\n",
    "category_df.index += 1\n",
    "category_df['weblink'] = category_df['category'].str.lower().str.replace(\" \",\"-\") + \"_\" + category_df.index.astype(str)"
   ]
  },
  {
   "cell_type": "code",
   "execution_count": 62,
   "id": "63362738-8654-428f-940b-c84de904f154",
   "metadata": {},
   "outputs": [],
   "source": [
    "category_dict = category_df.set_index('category')['weblink'].to_dict()"
   ]
  },
  {
   "cell_type": "code",
   "execution_count": 66,
   "id": "b58ea1a0-82df-4bca-9fe1-b94b5508ba47",
   "metadata": {},
   "outputs": [
    {
     "name": "stdout",
     "output_type": "stream",
     "text": [
      "{'Books': 'books_1', 'Travel': 'travel_2', 'Mystery': 'mystery_3', 'Historical Fiction': 'historical-fiction_4', 'Sequential Art': 'sequential-art_5', 'Classics': 'classics_6', 'Philosophy': 'philosophy_7', 'Romance': 'romance_8', 'Womens Fiction': 'womens-fiction_9', 'Fiction': 'fiction_10', 'Childrens': 'childrens_11', 'Religion': 'religion_12', 'Nonfiction': 'nonfiction_13', 'Music': 'music_14', 'Default': 'default_15', 'Science Fiction': 'science-fiction_16', 'Sports and Games': 'sports-and-games_17', 'Add a comment': 'add-a-comment_18', 'Fantasy': 'fantasy_19', 'New Adult': 'new-adult_20', 'Young Adult': 'young-adult_21', 'Science': 'science_22', 'Poetry': 'poetry_23', 'Paranormal': 'paranormal_24', 'Art': 'art_25', 'Psychology': 'psychology_26', 'Autobiography': 'autobiography_27', 'Parenting': 'parenting_28', 'Adult Fiction': 'adult-fiction_29', 'Humor': 'humor_30', 'Horror': 'horror_31', 'History': 'history_32', 'Food and Drink': 'food-and-drink_33', 'Christian Fiction': 'christian-fiction_34', 'Business': 'business_35', 'Biography': 'biography_36', 'Thriller': 'thriller_37', 'Contemporary': 'contemporary_38', 'Spirituality': 'spirituality_39', 'Academic': 'academic_40', 'Self Help': 'self-help_41', 'Historical': 'historical_42', 'Christian': 'christian_43', 'Suspense': 'suspense_44', 'Short Stories': 'short-stories_45', 'Novels': 'novels_46', 'Health': 'health_47', 'Politics': 'politics_48', 'Cultural': 'cultural_49', 'Erotica': 'erotica_50', 'Crime': 'crime_51'}\n"
     ]
    }
   ],
   "source": [
    "print(category_dict)"
   ]
  },
  {
   "cell_type": "code",
   "execution_count": 67,
   "id": "5da6bd7e-cde3-4d4a-a981-937b322850db",
   "metadata": {},
   "outputs": [
    {
     "data": {
      "text/html": [
       "<div>\n",
       "<style scoped>\n",
       "    .dataframe tbody tr th:only-of-type {\n",
       "        vertical-align: middle;\n",
       "    }\n",
       "\n",
       "    .dataframe tbody tr th {\n",
       "        vertical-align: top;\n",
       "    }\n",
       "\n",
       "    .dataframe thead th {\n",
       "        text-align: right;\n",
       "    }\n",
       "</style>\n",
       "<table border=\"1\" class=\"dataframe\">\n",
       "  <thead>\n",
       "    <tr style=\"text-align: right;\">\n",
       "      <th></th>\n",
       "      <th>category</th>\n",
       "      <th>weblink</th>\n",
       "    </tr>\n",
       "  </thead>\n",
       "  <tbody>\n",
       "    <tr>\n",
       "      <th>1</th>\n",
       "      <td>Books</td>\n",
       "      <td>books_1</td>\n",
       "    </tr>\n",
       "    <tr>\n",
       "      <th>2</th>\n",
       "      <td>Travel</td>\n",
       "      <td>travel_2</td>\n",
       "    </tr>\n",
       "    <tr>\n",
       "      <th>3</th>\n",
       "      <td>Mystery</td>\n",
       "      <td>mystery_3</td>\n",
       "    </tr>\n",
       "  </tbody>\n",
       "</table>\n",
       "</div>"
      ],
      "text/plain": [
       "  category    weblink\n",
       "1    Books    books_1\n",
       "2   Travel   travel_2\n",
       "3  Mystery  mystery_3"
      ]
     },
     "execution_count": 67,
     "metadata": {},
     "output_type": "execute_result"
    }
   ],
   "source": [
    "category_df.head(3)"
   ]
  },
  {
   "cell_type": "code",
   "execution_count": 65,
   "id": "b5957768-09b2-4571-8c06-474310c9896a",
   "metadata": {},
   "outputs": [
    {
     "data": {
      "text/plain": [
       "dict_keys(['mystery_3'])"
      ]
     },
     "execution_count": 65,
     "metadata": {},
     "output_type": "execute_result"
    }
   ],
   "source": [
    "dict_of_category_and_urls.keys()"
   ]
  },
  {
   "cell_type": "code",
   "execution_count": 64,
   "id": "83805070-99f3-48fc-8642-6f15558fea46",
   "metadata": {},
   "outputs": [
    {
     "name": "stdout",
     "output_type": "stream",
     "text": [
      "http://books.toscrape.com/catalogue/category/books/mystery_3/index.html\n"
     ]
    }
   ],
   "source": [
    "func_get_scrape(category_dict[\"Mystery\"])"
   ]
  },
  {
   "cell_type": "code",
   "execution_count": 16,
   "id": "695f501b-4606-4501-a181-1fbe59332050",
   "metadata": {},
   "outputs": [],
   "source": [
    "#dict_of_category_and_urls['Mystery']"
   ]
  },
  {
   "cell_type": "code",
   "execution_count": 12,
   "id": "91a0b583-3fe7-4aeb-ad8d-5220ee00ff35",
   "metadata": {},
   "outputs": [],
   "source": [
    "# grabs all the products under list tag\n",
    "bookshelf = page_soup.findAll(\n",
    "    \"li\", {\"class\": \"col-xs-6 col-sm-4 col-md-3 col-lg-3\"})"
   ]
  },
  {
   "cell_type": "code",
   "execution_count": 13,
   "id": "483f6385-f01d-4da5-aeff-ffc08ca28010",
   "metadata": {},
   "outputs": [],
   "source": [
    "bookshelf_mystery = dict_of_category_and_urls['Mystery'].findAll(\n",
    "    \"li\", {\"class\": \"col-xs-6 col-sm-4 col-md-3 col-lg-3\"})"
   ]
  },
  {
   "cell_type": "code",
   "execution_count": 14,
   "id": "1f8a984d-5e16-4d24-8cb3-8dbdec7bedd8",
   "metadata": {},
   "outputs": [
    {
     "name": "stdout",
     "output_type": "stream",
     "text": [
      "Book : A Light in the ... -----> Price : £51.77 \n",
      "Book : Tipping the Velvet -----> Price : £53.74 \n",
      "Book : Soumission -----> Price : £50.10 \n",
      "Book : Sharp Objects -----> Price : £47.82 \n",
      "Book : Sapiens: A Brief History ... -----> Price : £54.23 \n",
      "Book : The Requiem Red -----> Price : £22.65 \n",
      "Book : The Dirty Little Secrets ... -----> Price : £33.34 \n",
      "Book : The Coming Woman: A ... -----> Price : £17.93 \n",
      "Book : The Boys in the ... -----> Price : £22.60 \n",
      "Book : The Black Maria -----> Price : £52.15 \n",
      "Book : Starving Hearts (Triangular Trade ... -----> Price : £13.99 \n",
      "Book : Shakespeare's Sonnets -----> Price : £20.66 \n",
      "Book : Set Me Free -----> Price : £17.46 \n",
      "Book : Scott Pilgrim's Precious Little ... -----> Price : £52.29 \n",
      "Book : Rip it Up and ... -----> Price : £35.02 \n",
      "Book : Our Band Could Be ... -----> Price : £57.25 \n",
      "Book : Olio -----> Price : £23.88 \n",
      "Book : Mesaerion: The Best Science ... -----> Price : £37.59 \n",
      "Book : Libertarianism for Beginners -----> Price : £51.33 \n",
      "Book : It's Only the Himalayas -----> Price : £45.17 \n"
     ]
    }
   ],
   "source": [
    "for book in bookshelf:\n",
    "    book_name = book.h3.a.text\n",
    "    book_price = book.findAll(\"p\", {\"class\": \"price_color\"})[0].text.strip()\n",
    "    print(f\"Book : {book_name} -----> Price : {book_price} \")"
   ]
  },
  {
   "cell_type": "code",
   "execution_count": 15,
   "id": "dff792d8-67a4-4a58-8fd2-eca0683321cb",
   "metadata": {},
   "outputs": [
    {
     "name": "stdout",
     "output_type": "stream",
     "text": [
      "Book : Sharp Objects -----> Price : £47.82 \n",
      "Book : In a Dark, Dark ... -----> Price : £19.63 \n",
      "Book : The Past Never Ends -----> Price : £56.50 \n",
      "Book : A Murder in Time -----> Price : £16.64 \n",
      "Book : The Murder of Roger ... -----> Price : £44.10 \n",
      "Book : The Last Mile (Amos ... -----> Price : £54.21 \n",
      "Book : That Darkness (Gardiner and ... -----> Price : £13.92 \n",
      "Book : Tastes Like Fear (DI ... -----> Price : £10.69 \n",
      "Book : A Time of Torment ... -----> Price : £48.35 \n",
      "Book : A Study in Scarlet ... -----> Price : £16.73 \n",
      "Book : Poisonous (Max Revere Novels ... -----> Price : £26.80 \n",
      "Book : Murder at the 42nd ... -----> Price : £54.36 \n",
      "Book : Most Wanted -----> Price : £35.28 \n",
      "Book : Hide Away (Eve Duncan ... -----> Price : £11.84 \n",
      "Book : Boar Island (Anna Pigeon ... -----> Price : £59.48 \n",
      "Book : The Widow -----> Price : £27.26 \n",
      "Book : Playing with Fire -----> Price : £13.71 \n",
      "Book : What Happened on Beale ... -----> Price : £25.37 \n",
      "Book : The Bachelor Girl's Guide ... -----> Price : £52.30 \n",
      "Book : Delivering the Truth (Quaker ... -----> Price : £20.89 \n"
     ]
    }
   ],
   "source": [
    "for book in bookshelf_mystery:\n",
    "    book_name = book.h3.a.text\n",
    "    book_price = book.findAll(\"p\", {\"class\": \"price_color\"})[0].text.strip()\n",
    "    print(f\"Book : {book_name} -----> Price : {book_price} \")"
   ]
  }
 ],
 "metadata": {
  "kernelspec": {
   "display_name": "Python 3 (ipykernel)",
   "language": "python",
   "name": "python3"
  },
  "language_info": {
   "codemirror_mode": {
    "name": "ipython",
    "version": 3
   },
   "file_extension": ".py",
   "mimetype": "text/x-python",
   "name": "python",
   "nbconvert_exporter": "python",
   "pygments_lexer": "ipython3",
   "version": "3.12.3"
  }
 },
 "nbformat": 4,
 "nbformat_minor": 5
}
